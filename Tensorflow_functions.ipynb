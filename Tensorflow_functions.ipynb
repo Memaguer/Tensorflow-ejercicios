{
 "cells": [
  {
   "cell_type": "code",
   "execution_count": 1,
   "metadata": {},
   "outputs": [
    {
     "name": "stderr",
     "output_type": "stream",
     "text": [
      "/Users/MemoBG/anaconda3/lib/python3.6/site-packages/h5py/__init__.py:36: FutureWarning: Conversion of the second argument of issubdtype from `float` to `np.floating` is deprecated. In future, it will be treated as `np.float64 == np.dtype(float).type`.\n",
      "  from ._conv import register_converters as _register_converters\n"
     ]
    }
   ],
   "source": [
    "import tensorflow as tf\n",
    "import random"
   ]
  },
  {
   "cell_type": "code",
   "execution_count": 4,
   "metadata": {},
   "outputs": [
    {
     "name": "stdout",
     "output_type": "stream",
     "text": [
      "f(4) = x = 4\n",
      "f(5) = x = 5\n",
      "f(2) = x = 2\n",
      "f(4) = x = 4\n",
      "f(10) = x = 10\n",
      "f(7) = x = 7\n",
      "f(9) = x = 9\n",
      "f(8) = x = 8\n",
      "f(1) = x = 1\n",
      "f(6) = x = 6\n"
     ]
    }
   ],
   "source": [
    "graph = tf.Graph()\n",
    "with graph.as_default():\n",
    "    x = tf.placeholder(tf.int32, None)\n",
    "    function = x\n",
    "\n",
    "with tf.Session(graph = graph) as sess:\n",
    "    for iteration in range(10):\n",
    "        numberRandom = random.randint(1,10)\n",
    "        print('f({0}) = x = {1}'.format(numberRandom, sess.run(function, feed_dict={x: numberRandom})))\n",
    "        \n",
    "        "
   ]
  },
  {
   "cell_type": "code",
   "execution_count": 16,
   "metadata": {},
   "outputs": [
    {
     "name": "stdout",
     "output_type": "stream",
     "text": [
      "f(10) = x + 2 = 12\n",
      "f(9) = x + 2 = 11\n",
      "f(4) = x + 2 = 6\n",
      "f(5) = x + 2 = 7\n",
      "f(10) = x + 2 = 12\n",
      "f(3) = x + 2 = 5\n",
      "f(1) = x + 2 = 3\n",
      "f(9) = x + 2 = 11\n",
      "f(5) = x + 2 = 7\n",
      "f(2) = x + 2 = 4\n"
     ]
    }
   ],
   "source": [
    "graph = tf.Graph()\n",
    "with graph.as_default():\n",
    "    x=tf.placeholder(tf.int32, None)\n",
    "    con = tf.constant(2)\n",
    "    function = x + con\n",
    "    \n",
    "with tf.Session(graph = graph) as sess:\n",
    "    for iteration in range(10):\n",
    "        numberF = random.randint(1,10)\n",
    "        print('f({0}) = x + 2 = {1}'.format(numberF, sess.run(function, feed_dict ={x: numberF})))"
   ]
  },
  {
   "cell_type": "code",
   "execution_count": 14,
   "metadata": {},
   "outputs": [
    {
     "name": "stdout",
     "output_type": "stream",
     "text": [
      "f(7) = x^2 = 343\n",
      "f(1) = x^2 = 1\n",
      "f(4) = x^2 = 64\n",
      "f(9) = x^2 = 729\n",
      "f(5) = x^2 = 125\n",
      "f(6) = x^2 = 216\n",
      "f(8) = x^2 = 512\n",
      "f(2) = x^2 = 8\n",
      "f(7) = x^2 = 343\n",
      "f(5) = x^2 = 125\n"
     ]
    }
   ],
   "source": [
    "graph = tf.Graph()\n",
    "with graph.as_default():\n",
    "    x=tf.placeholder(tf.int32, None)\n",
    "    con = tf.constant(3)\n",
    "    function = x**con\n",
    "    \n",
    "with tf.Session(graph = graph) as sess:\n",
    "    for iteration in range(10):\n",
    "        numberF = random.randint(1,10)\n",
    "        print('f({0}) = x^2 = {1}'.format(numberF, sess.run(function, feed_dict ={x: numberF})))"
   ]
  },
  {
   "cell_type": "code",
   "execution_count": 18,
   "metadata": {},
   "outputs": [
    {
     "name": "stdout",
     "output_type": "stream",
     "text": [
      "f(9) = 1/x = 0.1111111111111111\n",
      "f(8) = 1/x = 0.125\n",
      "f(5) = 1/x = 0.2\n",
      "f(10) = 1/x = 0.1\n",
      "f(10) = 1/x = 0.1\n",
      "f(7) = 1/x = 0.14285714285714285\n",
      "f(2) = 1/x = 0.5\n",
      "f(3) = 1/x = 0.3333333333333333\n",
      "f(5) = 1/x = 0.2\n",
      "f(10) = 1/x = 0.1\n"
     ]
    }
   ],
   "source": [
    "graph = tf.Graph()\n",
    "with graph.as_default():\n",
    "    x=tf.placeholder(tf.int32, None)\n",
    "    con = tf.constant(1)\n",
    "    function = con / x\n",
    "    \n",
    "with tf.Session(graph = graph) as sess:\n",
    "    for iteration in range(10):\n",
    "        numberF = random.randint(1,10)\n",
    "        print('f({0}) = 1/x = {1}'.format(numberF, sess.run(function, feed_dict ={x: numberF})))"
   ]
  },
  {
   "cell_type": "code",
   "execution_count": 19,
   "metadata": {},
   "outputs": [
    {
     "name": "stdout",
     "output_type": "stream",
     "text": [
      "f(3) = x/x*2 = 0.5\n",
      "f(6) = x/x*2 = 0.5\n",
      "f(9) = x/x*2 = 0.5\n",
      "f(9) = x/x*2 = 0.5\n",
      "f(6) = x/x*2 = 0.5\n",
      "f(6) = x/x*2 = 0.5\n",
      "f(7) = x/x*2 = 0.5\n",
      "f(4) = x/x*2 = 0.5\n",
      "f(6) = x/x*2 = 0.5\n",
      "f(2) = x/x*2 = 0.5\n"
     ]
    }
   ],
   "source": [
    "graph = tf.Graph()\n",
    "with graph.as_default():\n",
    "    x=tf.placeholder(tf.int32, None)\n",
    "    con = tf.constant(2)\n",
    "    function = x / (x * con)\n",
    "    \n",
    "with tf.Session(graph = graph) as sess:\n",
    "    for iteration in range(10):\n",
    "        numberF = random.randint(1,10)\n",
    "        print('f({0}) = x/x*2 = {1}'.format(numberF, sess.run(function, feed_dict ={x: numberF})))"
   ]
  },
  {
   "cell_type": "code",
   "execution_count": null,
   "metadata": {},
   "outputs": [],
   "source": []
  }
 ],
 "metadata": {
  "kernelspec": {
   "display_name": "Python 3",
   "language": "python",
   "name": "python3"
  },
  "language_info": {
   "codemirror_mode": {
    "name": "ipython",
    "version": 3
   },
   "file_extension": ".py",
   "mimetype": "text/x-python",
   "name": "python",
   "nbconvert_exporter": "python",
   "pygments_lexer": "ipython3",
   "version": "3.6.5"
  }
 },
 "nbformat": 4,
 "nbformat_minor": 2
}
